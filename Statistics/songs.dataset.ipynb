{
 "cells": [
  {
   "cell_type": "code",
   "execution_count": 4,
   "metadata": {},
   "outputs": [],
   "source": [
    "# Sampling Distributions_Dance_Party"
   ]
  },
  {
   "cell_type": "markdown",
   "metadata": {},
   "source": [
    "## importing necessary library"
   ]
  },
  {
   "cell_type": "code",
   "execution_count": 5,
   "metadata": {},
   "outputs": [],
   "source": [
    "import numpy as np\n",
    "import pandas as pd\n",
    "import matplotlib.pyplot as plt\n",
    "from scipy import stats\n",
    "import seaborn as sns"
   ]
  },
  {
   "cell_type": "markdown",
   "metadata": {},
   "source": [
    "## Different Functions made to calculate different values and plotting"
   ]
  },
  {
   "cell_type": "code",
   "execution_count": 6,
   "metadata": {},
   "outputs": [],
   "source": [
    "\n",
    "def choose_statistic(x, sample_stat_text):\n",
    "  # calculate mean if the text is \"Mean\"\n",
    "  if sample_stat_text == \"Mean\":\n",
    "    return np.mean(x)\n",
    "  # calculate minimum if the text is \"Minimum\"\n",
    "  elif sample_stat_text == \"Minimum\":\n",
    "    return np.min(x)\n",
    "  # calculate variance if the text is \"Variance\"\n",
    "  elif sample_stat_text == \"Variance\":\n",
    "    return np.var(x)\n",
    "  # if you want to add an extra stat\n",
    "  # raise error if sample_stat_text is not \"Mean\", \"Minimum\", or \"Variance\"\n",
    "  else:\n",
    "    raise Exception('Make sure to input \"Mean\", \"Minimum\", or \"Variance\"')\n",
    "\n",
    "def population_distribution(population_data):\n",
    "  # plot the population distribution\n",
    "  sns.histplot(population_data, stat='density')\n",
    "  # informative title for the distribution \n",
    "  plt.title(f\"Population Distribution\")\n",
    "  # remove None label\n",
    "  plt.xlabel('')\n",
    "  plt.show()\n",
    "  plt.clf()\n",
    "\n",
    "def sampling_distribution(population_data, samp_size, stat):\n",
    "  # list that will hold all the sample statistics\n",
    "  sample_stats = []\n",
    "  for i in range(500):\n",
    "    # get a random sample from the population of size samp_size\n",
    "    samp = np.random.choice(population_data, samp_size, replace = False)\n",
    "    # calculate the chosen statistic (mean, minimum, or variance) of the sample\n",
    "    sample_stat = choose_statistic(samp, stat)\n",
    "    # add sample_stat to the sample_stats list\n",
    "    sample_stats.append(sample_stat)\n",
    "  \n",
    "  pop_statistic = round(choose_statistic(population_data, stat),2)\n",
    "  # plot the sampling distribution\n",
    "  sns.histplot(sample_stats, stat='density')\n",
    "  # informative title for the sampling distribution\n",
    "  plt.title(f\"Sampling Distribution of the {stat} \\nMean of the Sample {stat}s: {round(np.mean(sample_stats), 2)} \\n Population {stat}: {pop_statistic}\")\n",
    "  plt.axvline(pop_statistic,color='g',linestyle='dashed', label=f'Population {stat}')\n",
    "  # plot the mean of the chosen sample statistic for the sampling distribution\n",
    "  plt.axvline(np.mean(sample_stats),color='orange',linestyle='dashed', label=f'Mean of the Sample {stat}s')\n",
    "  plt.legend()\n",
    "  plt.show()\n",
    "  plt.clf()"
   ]
  },
  {
   "cell_type": "markdown",
   "metadata": {},
   "source": [
    "### Problem: Get your dancing shoes ready! You are a DJ trying to make sure you are ready for a big party. You don’t have time to go through all the songs you can work with. Instead, you want to make sure that any sample of 30 songs from your playlist will get the party started. To do this, you will use the power of sampling distributions!"
   ]
  },
  {
   "cell_type": "code",
   "execution_count": null,
   "metadata": {},
   "outputs": [],
   "source": [
    "spotify_data = pd.read_csv(\"spotify_data.csv\")\n",
    "# task 2: preview the dataset\n",
    "print(spotify_data.head())\n",
    "\n",
    "# task 3: select the relevant column\n",
    "# \n",
    "# For this project, we are going to focus on the tempo variable.\n",
    "#  This column gives the beats per minute (bpm) of each song in spotify.csv.\n",
    "song_tempos = spotify_data[\"tempo\"]\n",
    "print(song_tempos)\n",
    "\n",
    "# task 5: plot the population distribution with the mean labeled\n",
    "population_distribution(song_tempos)\n",
    "\n",
    "# task 6: sampling distribution of the sample mean\n",
    "sampling_distribution(song_tempos,30,\"Mean\")\n",
    "\n",
    "# task 8: sampling distribution of the sample minimum\n",
    "sampling_distribution(song_tempos, 30, \"Minimum\")\n",
    "\n",
    "# task 10: sampling distribution of the sample variance\n",
    "sampling_distribution(song_tempos, 30, \"Variance\")\n",
    "\n",
    "# task 13: calculate the population mean and standard deviation\n",
    "population_mean = np.mean(song_tempos)\n",
    "population_std = np.std(song_tempos)\n",
    "\n",
    "# task 14: calculate the standard error\n",
    "standard_error = population_std/np.sqrt(30)\n",
    "\n",
    "# task 15: calculate the probability of observing an average tempo of 140bpm or lower from a sample of 30 songs\n",
    "print(stats.norm.cdf(140, population_mean, standard_error))\n",
    "\n",
    "# task 16: calculate the probability of observing an average tempo of 150bpm or higher from a sample of 30 songs\n",
    "print(1-stats.norm.cdf(150, population_mean, standard_error))\n",
    "\n",
    "# EXTRA\n",
    "#Use the sampling distribution of the sample minimum to estimate the probability of observing a specific sample minimum. \n",
    "# For example, from the plot, what is the chance of getting a sample minimum that is less than 130bpm?\n",
    "print(stats.norm.cdf(130, ))"
   ]
  }
 ],
 "metadata": {
  "kernelspec": {
   "display_name": "Python 3.10.4 64-bit",
   "language": "python",
   "name": "python3"
  },
  "language_info": {
   "codemirror_mode": {
    "name": "ipython",
    "version": 3
   },
   "file_extension": ".py",
   "mimetype": "text/x-python",
   "name": "python",
   "nbconvert_exporter": "python",
   "pygments_lexer": "ipython3",
   "version": "3.10.4"
  },
  "orig_nbformat": 4,
  "vscode": {
   "interpreter": {
    "hash": "9370b425a2a54a1ac80961f934146f68b8a2fb4e0544172f4af758d330b98ad6"
   }
  }
 },
 "nbformat": 4,
 "nbformat_minor": 2
}
