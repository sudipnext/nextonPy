{
 "cells": [
  {
   "cell_type": "code",
   "execution_count": 10,
   "metadata": {},
   "outputs": [],
   "source": [
    "import matplotlib.pyplot as plt\n",
    "import numpy as np\n",
    "import math "
   ]
  },
  {
   "attachments": {},
   "cell_type": "markdown",
   "metadata": {},
   "source": [
    "# Default Function\n"
   ]
  },
  {
   "cell_type": "code",
   "execution_count": 11,
   "metadata": {},
   "outputs": [],
   "source": [
    "def fun(x):\n",
    "    return math.sin(x)+math.cos(x)+math.exp(x)-8"
   ]
  },
  {
   "attachments": {},
   "cell_type": "markdown",
   "metadata": {},
   "source": [
    "# Derivative of the function"
   ]
  },
  {
   "cell_type": "code",
   "execution_count": 12,
   "metadata": {},
   "outputs": [],
   "source": [
    "def derfun(x):\n",
    "    return math.cos(x)-math.sin(x)+math.exp(x)"
   ]
  },
  {
   "cell_type": "code",
   "execution_count": 13,
   "metadata": {},
   "outputs": [],
   "source": [
    "newton=[]\n",
    "bisection=[]\n",
    "secant=[]\n",
    "falsi =[]"
   ]
  },
  {
   "attachments": {},
   "cell_type": "markdown",
   "metadata": {},
   "source": [
    "# Bisection Method\n"
   ]
  },
  {
   "cell_type": "code",
   "execution_count": 14,
   "metadata": {},
   "outputs": [
    {
     "name": "stdout",
     "output_type": "stream",
     "text": [
      "Iteration - 1, x2 = 2.00000000 and f(x2) = -0.11779331\n",
      "Iteration - 2, x2 = 2.50000000 and f(x2) = 3.97982249\n",
      "Iteration - 3, x2 = 2.25000000 and f(x2) = 1.63763541\n",
      "Iteration - 4, x2 = 2.12500000 and f(x2) = 0.69695094\n",
      "Iteration - 5, x2 = 2.06250000 and f(x2) = 0.27501065\n",
      "Iteration - 6, x2 = 2.03125000 and f(x2) = 0.07510634\n",
      "Iteration - 7, x2 = 2.01562500 and f(x2) = -0.02220203\n",
      "Iteration - 8, x2 = 2.02343750 and f(x2) = 0.02623541\n",
      "Iteration - 9, x2 = 2.01953125 and f(x2) = 0.00196277\n",
      "Iteration - 10, x2 = 2.01757812 and f(x2) = -0.01013308\n",
      "Iteration - 11, x2 = 2.01855469 and f(x2) = -0.00408852\n",
      "Iteration - 12, x2 = 2.01904297 and f(x2) = -0.00106372\n",
      "Iteration - 13, x2 = 2.01928711 and f(x2) = 0.00044931\n",
      "Root is %0.8f 2.019287109375\n"
     ]
    }
   ],
   "source": [
    "def calculateBisection(a, b, err):\n",
    "    step=1\n",
    "    x0=a\n",
    "    x1=b\n",
    "    x2=0\n",
    "    flag = True\n",
    "    f0 = fun(a)\n",
    "    f1 = fun(b)\n",
    "    if(f0*f1 > 0.0):\n",
    "        print(\"Incorrect Guesses and the solution doesnot lie between this\")\n",
    "    while flag:\n",
    "        x2 = (x0+x1)/2\n",
    "        f2 = fun(x2)\n",
    "        print('Iteration - %d, x2 = %0.8f and f(x2) = %0.8f' % (step, x2, f2))\n",
    "        #means If  the solution converges\n",
    "        if(f0*f2 < 0):\n",
    "            x1 = x2\n",
    "        else:\n",
    "            x0=x2\n",
    "        step+=1\n",
    "        bisection.append(x2)\n",
    "        flag = abs(f2) > err\n",
    "    print(\"Root is %0.8f\", x2)\n",
    "calculateBisection(1,3, 0.001)\n",
    "      "
   ]
  },
  {
   "attachments": {},
   "cell_type": "markdown",
   "metadata": {},
   "source": [
    "# Secant Method"
   ]
  },
  {
   "cell_type": "code",
   "execution_count": 15,
   "metadata": {},
   "outputs": [
    {
     "name": "stdout",
     "output_type": "stream",
     "text": [
      "Iteration - 1, x2 = 1.51529967 and f(x2) = -2.39528672\n",
      "Iteration - 2, x2 = 1.89783246 and f(x2) = -0.70282085\n",
      "Iteration - 3, x2 = 2.18180575 and f(x2) = 1.10766967\n",
      "Iteration - 4, x2 = 1.97099813 and f(x2) = -0.29078448\n",
      "Iteration - 5, x2 = 2.02531268 and f(x2) = 0.03792585\n",
      "Iteration - 6, x2 = 1.98499227 and f(x2) = -0.20802269\n",
      "Iteration - 7, x2 = 1.99538081 and f(x2) = -0.14572884\n",
      "Iteration - 8, x2 = 2.00309275 and f(x2) = -0.09900703\n",
      "Iteration - 9, x2 = 2.00881771 and f(x2) = -0.06405703\n",
      "Iteration - 10, x2 = 2.01306764 and f(x2) = -0.03796419\n",
      "Iteration - 11, x2 = 2.01622257 and f(x2) = -0.01851231\n",
      "Iteration - 12, x2 = 2.01856464 and f(x2) = -0.00402691\n",
      "Iteration - 13, x2 = 2.02030327 and f(x2) = 0.00675136\n",
      "Iteration - 14, x2 = 2.01901259 and f(x2) = -0.00125193\n",
      "Iteration - 15, x2 = 2.01934514 and f(x2) = 0.00080899\n",
      "The root is %0.8f 2.019345136247118\n"
     ]
    }
   ],
   "source": [
    "def secantCalcuator(a, b, err):\n",
    "    step=1\n",
    "    x0=a\n",
    "    x1=b\n",
    "    f0= fun(a)\n",
    "    f1 = fun(b)\n",
    "    flag=True\n",
    "    if(f0*f1 >0):\n",
    "        print(\"The solution between these point is not converging\")\n",
    "    while flag:\n",
    "        x2 = (f1*x0 - f0*x1)/(f1-f0)\n",
    "        f2=fun(x2)\n",
    "        print('Iteration - %d, x2 = %0.8f and f(x2) = %0.8f' % (step, x2, f2))\n",
    "        #now again checking whether the solution is converging or not\n",
    "        if(f0*f2 < 0):\n",
    "            x1=x2\n",
    "        else:\n",
    "            x0=x2\n",
    "        step+=1\n",
    "        secant.append(x2)\n",
    "        flag = abs(f2) > err\n",
    "    print(\"The root is %0.8f\", x2)\n",
    "secantCalcuator(1, 3, 0.001)\n"
   ]
  },
  {
   "attachments": {},
   "cell_type": "markdown",
   "metadata": {},
   "source": [
    "# Netwon Method"
   ]
  },
  {
   "cell_type": "code",
   "execution_count": 16,
   "metadata": {},
   "outputs": [
    {
     "name": "stdout",
     "output_type": "stream",
     "text": [
      "Iteration - 1, xn = 2.61347220 and f(xn) = 5.28650664\n",
      "Iteration - 2, xn = 2.18292882 and f(xn) = 1.11606395\n",
      "Iteration - 3, xn = 2.03370675 and f(xn) = 0.09056475\n",
      "Iteration - 4, xn = 2.01933379 and f(xn) = 0.00073866\n",
      "root is xn %0.8f 2.0193337902803306\n"
     ]
    }
   ],
   "source": [
    "def newtonCalc(a, err):\n",
    "    step=1\n",
    "    x1=a\n",
    "    flag= True\n",
    "    while flag:\n",
    "        xn = x1-(fun(x1)/derfun(x1))\n",
    "        x1=xn\n",
    "        print('Iteration - %d, xn = %0.8f and f(xn) = %0.8f' % (step, xn, fun(xn)))\n",
    "        flag = abs(fun(xn)) > err\n",
    "        newton.append(xn)\n",
    "        step +=1\n",
    "    print(\"root is xn %0.8f\",xn)\n",
    "newtonCalc(1, 0.001)"
   ]
  },
  {
   "cell_type": "code",
   "execution_count": 17,
   "metadata": {},
   "outputs": [
    {
     "name": "stdout",
     "output_type": "stream",
     "text": [
      "Step- 1, x3 = 1.515300 and f(x3) = -2.395287\n",
      "Step- 1, x3 = 1.776178 and f(x3) = -1.317721\n",
      "Step- 1, x3 = 1.904632 and f(x3) = -0.665943\n",
      "Step- 1, x3 = 1.965917 and f(x3) = -0.320512\n",
      "Step- 1, x3 = 1.994595 and f(x3) = -0.150468\n",
      "Step- 1, x3 = 2.007880 and f(x3) = -0.069797\n",
      "Step- 1, x3 = 2.014005 and f(x3) = -0.032195\n",
      "Step- 1, x3 = 2.016822 and f(x3) = -0.014811\n",
      "Step- 1, x3 = 2.018116 and f(x3) = -0.006806\n",
      "Step- 1, x3 = 2.018710 and f(x3) = -0.003126\n",
      "Step- 1, x3 = 2.018983 and f(x3) = -0.001435\n",
      "Step- 1, x3 = 2.019108 and f(x3) = -0.000659\n",
      "\n",
      "Required root is: 2.01910831\n"
     ]
    }
   ],
   "source": [
    "# def f(x):\n",
    "#     return x**3-2*x-5\n",
    "\n",
    "def regulaFalsi(x1, x2, err):\n",
    "    pos=1\n",
    "    fx1= fun(x1)\n",
    "    fx2 = fun(x2)\n",
    "    if fx1 * fx2 > 0:\n",
    "        print(\"The solutions doesn't lies between this interval\")\n",
    "    condn = True\n",
    "    while condn:\n",
    "        x3 = x1-(x2-x1)/(fun(x2)-fun(x1))*fun(x1)\n",
    "        print('Step- %d, x3 = %0.6f and f(x3) = %0.6f' % (pos, x3, fun(x3)))\n",
    "        if fun(x3)*fun(x1) < 0:\n",
    "            x2= x3\n",
    "        else:\n",
    "            x1= x3\n",
    "        falsi.append(x3)\n",
    "        condn = abs(fun(x3)) > err\n",
    "    print('\\nRequired root is: %0.8f' % x3)\n",
    "\n",
    "\n",
    "regulaFalsi(1, 3, 0.001)"
   ]
  },
  {
   "attachments": {},
   "cell_type": "markdown",
   "metadata": {},
   "source": [
    "# Plotting Different functions with their no. of iterations vs solution"
   ]
  },
  {
   "cell_type": "code",
   "execution_count": 18,
   "metadata": {},
   "outputs": [
    {
     "data": {
      "image/png": "[encoded data removed]",
      "text/plain": [
       "<Figure size 640x480 with 1 Axes>"
      ]
     },
     "metadata": {},
     "output_type": "display_data"
    }
   ],
   "source": [
    "#straight numbers\n",
    "def rangeOfFun(x):\n",
    "    steps=[]\n",
    "    for i in range(len(x)):\n",
    "        steps.append(i+1)\n",
    "    return steps\n",
    "plt.title(\"Demonstration of Different Method of solution of Non-Linear Equation\")\n",
    "plt.xlabel(\"No. of Steps\")\n",
    "plt.ylabel(\"Answer\")\n",
    "plt.plot(rangeOfFun(secant), secant, label=\"Secant\")\n",
    "plt.plot(rangeOfFun(bisection), bisection, label=\"Bisection\")\n",
    "plt.plot(rangeOfFun(newton), newton, label=\"Newton\")\n",
    "plt.plot(rangeOfFun(falsi), falsi, label=\"Falsi\")\n",
    "plt.legend()\n",
    "plt.show()"
   ]
  }
 ],
 "metadata": {
  "kernelspec": {
   "display_name": "Python 3",
   "language": "python",
   "name": "python3"
  },
  "language_info": {
   "codemirror_mode": {
    "name": "ipython",
    "version": 3
   },
   "file_extension": ".py",
   "mimetype": "text/x-python",
   "name": "python",
   "nbconvert_exporter": "python",
   "pygments_lexer": "ipython3",
   "version": "3.11.0"
  },
  "orig_nbformat": 4,
  "vscode": {
   "interpreter": {
    "hash": "f4439b52bba58a8f1be07af29fbe91ad3080f1f9817d0f6cecda63fbc00c472d"
   }
  }
 },
 "nbformat": 4,
 "nbformat_minor": 2
}
