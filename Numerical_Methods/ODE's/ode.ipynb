{
 "cells": [
  {
   "attachments": {},
   "cell_type": "markdown",
   "metadata": {},
   "source": [
    "# There are 5 methods for solving ODE's\n",
    "- Taylor's Method\n",
    "- Picard's Method\n",
    "- Euler's Method\n",
    "- Runga-Kutta Method\n",
    "- Heun's Method"
   ]
  },
  {
   "cell_type": "code",
   "execution_count": 11,
   "metadata": {},
   "outputs": [
    {
     "name": "stdout",
     "output_type": "stream",
     "text": [
      "   9        8      7      6     5    4    3    2        \n",
      "  x        x      x      x     x    x    x    x         \n",
      "────── + ───── + ──── + ─── + ─── + ── + ── + ── + x + 1\n",
      "362880   40320   5040   720   120   24   6    2         \n"
     ]
    }
   ],
   "source": [
    "from sympy import diff, symbols, factorial, exp, pretty_print\n",
    "import matplotlib.pyplot as plt\n",
    "\n",
    "x = symbols(\"x\")\n",
    "\n",
    "func = exp(x)\n",
    "# no of iterations\n",
    "n = 10\n",
    "x0 = 0\n",
    "result = func.subs(x, x0)\n",
    "\n",
    "for i in range(1, n):\n",
    "    #the diff means differentiate and it will differentiate according to the iteration number wrt to the x in this case\n",
    "    result += diff(func, x, i).subs(x, x0)*((x - x0)**i / factorial(i))\n",
    "pretty_print(result)\n"
   ]
  },
  {
   "cell_type": "code",
   "execution_count": null,
   "metadata": {},
   "outputs": [],
   "source": [
    "# Taylor's Method\n"
   ]
  }
 ],
 "metadata": {
  "kernelspec": {
   "display_name": "Python 3",
   "language": "python",
   "name": "python3"
  },
  "language_info": {
   "codemirror_mode": {
    "name": "ipython",
    "version": 3
   },
   "file_extension": ".py",
   "mimetype": "text/x-python",
   "name": "python",
   "nbconvert_exporter": "python",
   "pygments_lexer": "ipython3",
   "version": "3.11.0"
  },
  "orig_nbformat": 4,
  "vscode": {
   "interpreter": {
    "hash": "f4439b52bba58a8f1be07af29fbe91ad3080f1f9817d0f6cecda63fbc00c472d"
   }
  }
 },
 "nbformat": 4,
 "nbformat_minor": 2
}
