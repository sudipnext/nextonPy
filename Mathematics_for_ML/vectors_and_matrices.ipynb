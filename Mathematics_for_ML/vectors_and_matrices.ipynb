{
 "cells": [
  {
   "cell_type": "markdown",
   "metadata": {},
   "source": [
    "# VECTORS AND MATRICES"
   ]
  },
  {
   "cell_type": "markdown",
   "metadata": {},
   "source": [
    "# Vectors in ML"
   ]
  },
  {
   "cell_type": "markdown",
   "metadata": {},
   "source": [
    "importing Packages"
   ]
  },
  {
   "cell_type": "code",
   "execution_count": 115,
   "metadata": {},
   "outputs": [],
   "source": [
    "import numpy as np\n",
    "#defining a vector\n",
    "v=np.array([1,-1,2])\n",
    "w=np.array([2, 5, 2])\n"
   ]
  },
  {
   "cell_type": "code",
   "execution_count": 116,
   "metadata": {},
   "outputs": [
    {
     "name": "stdout",
     "output_type": "stream",
     "text": [
      "[3 4 4]\n",
      "[-1 -6  0]\n",
      "[ 3 -3  6]\n",
      "2.449489742783178\n",
      "1\n"
     ]
    }
   ],
   "source": [
    "#addition\n",
    "print(v+w)\n",
    "#subtraction\n",
    "print(v-w)\n",
    "#scalar multiplication\n",
    "print(3*v)\n",
    "#finding length/magnitude of the vector/ norm is for finding out the length\n",
    "print(np.linalg.norm(v))\n",
    "\n",
    "#dot product\n",
    "s=np.dot(v, w)\n",
    "print(s)\n"
   ]
  },
  {
   "cell_type": "markdown",
   "metadata": {},
   "source": [
    "## MATRICES"
   ]
  },
  {
   "cell_type": "code",
   "execution_count": 117,
   "metadata": {},
   "outputs": [
    {
     "name": "stdout",
     "output_type": "stream",
     "text": [
      "[[1 7]\n",
      " [2 1]\n",
      " [3 2]]\n"
     ]
    }
   ],
   "source": [
    "P = np.array([[1,7], [2,1], [3,2]])\n",
    "print(P)"
   ]
  },
  {
   "cell_type": "code",
   "execution_count": 118,
   "metadata": {},
   "outputs": [
    {
     "data": {
      "text/plain": [
       "array([[2, 8],\n",
       "       [3, 0],\n",
       "       [4, 2]])"
      ]
     },
     "execution_count": 118,
     "metadata": {},
     "output_type": "execute_result"
    }
   ],
   "source": [
    "Q = np.array([[1,1],[1,-1], [1,0]])\n",
    "c1= np.add(P, Q)\n",
    "c1"
   ]
  },
  {
   "cell_type": "code",
   "execution_count": 119,
   "metadata": {},
   "outputs": [
    {
     "data": {
      "text/plain": [
       "array([[0, 6],\n",
       "       [1, 2],\n",
       "       [2, 2]])"
      ]
     },
     "execution_count": 119,
     "metadata": {},
     "output_type": "execute_result"
    }
   ],
   "source": [
    "# subtraction\n",
    "c2 = np.subtract(P, Q)\n",
    "c2"
   ]
  },
  {
   "cell_type": "code",
   "execution_count": 120,
   "metadata": {},
   "outputs": [
    {
     "name": "stdout",
     "output_type": "stream",
     "text": [
      "[[1 3 1]\n",
      " [1 0 1]]\n",
      "[[8 3 8]\n",
      " [3 6 3]\n",
      " [5 9 5]]\n"
     ]
    }
   ],
   "source": [
    "#Multiplication\n",
    "R = np.array([[1,3,1],[1,0,1]])\n",
    "print(R)\n",
    "c3 = np.dot(P, R)\n",
    "print(c3)"
   ]
  },
  {
   "cell_type": "code",
   "execution_count": 121,
   "metadata": {},
   "outputs": [
    {
     "name": "stdout",
     "output_type": "stream",
     "text": [
      "0.0\n"
     ]
    }
   ],
   "source": [
    "#Determinant of matrices\n",
    "det = np.linalg.det(c3)\n",
    "print(det)\n",
    "#determinant is zero\n",
    "# s2= np.linalg.inv(c3)\n",
    "# print(s2) # causes a error because it a singular matrix i.e determinant is zero"
   ]
  },
  {
   "cell_type": "code",
   "execution_count": 122,
   "metadata": {},
   "outputs": [
    {
     "name": "stdout",
     "output_type": "stream",
     "text": [
      "[[ 0.6  0.2]\n",
      " [-0.4  0.2]]\n"
     ]
    }
   ],
   "source": [
    "M = np.array([[1,-1], [2,3]])\n",
    "print(np.linalg.inv(M))"
   ]
  }
 ],
 "metadata": {
  "kernelspec": {
   "display_name": "Python 3.10.4 64-bit",
   "language": "python",
   "name": "python3"
  },
  "language_info": {
   "codemirror_mode": {
    "name": "ipython",
    "version": 3
   },
   "file_extension": ".py",
   "mimetype": "text/x-python",
   "name": "python",
   "nbconvert_exporter": "python",
   "pygments_lexer": "ipython3",
   "version": "3.10.4"
  },
  "orig_nbformat": 4,
  "vscode": {
   "interpreter": {
    "hash": "9370b425a2a54a1ac80961f934146f68b8a2fb4e0544172f4af758d330b98ad6"
   }
  }
 },
 "nbformat": 4,
 "nbformat_minor": 2
}
