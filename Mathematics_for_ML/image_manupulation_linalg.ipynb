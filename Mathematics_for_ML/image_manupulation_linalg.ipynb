{
 "cells": [
  {
   "cell_type": "markdown",
   "metadata": {},
   "source": [
    "This project was done in codecademy and then transferred here."
   ]
  },
  {
   "cell_type": "code",
   "execution_count": null,
   "metadata": {},
   "outputs": [],
   "source": [
    "import numpy as np\n",
    "import matplotlib.pyplot as plt\n",
    "\n",
    "heart_img = np.array([[255,0,0,255,0,0,255],\n",
    "              [0,255/2,255/2,0,255/2,255/2,0],\n",
    "          [0,255/2,255/2,255/2,255/2,255/2,0],\n",
    "          [0,255/2,255/2,255/2,255/2,255/2,0],\n",
    "              [255,0,255/2,255/2,255/2,0,255],\n",
    "                  [255,255,0,255/2,0,255,255],\n",
    "                  [255,255,255,0,255,255,255]])\n",
    "\n",
    "# This is a helper function that makes it easy for you to show images!\n",
    "def show_image(image, name_identifier):\n",
    "  plt.imshow(image, cmap=\"gray\")\n",
    "  plt.title(name_identifier)\n",
    "  plt.show()\n",
    "\n",
    "# Show heart image\n",
    "show_image(heart_img, \"Heart Image\")\n",
    "\n",
    "# Invert color\n",
    "inverted_heart_img = 255 -heart_img\n",
    "show_image(inverted_heart_img, \"Inverted Heart Image\")\n",
    "\n",
    "# Rotate heart\n",
    "rotated_heart_img = heart_img.T\n",
    "show_image(rotated_heart_img, \"Rotated Heart Image\")\n",
    "\n",
    "# Random Image\n",
    "random_img = np.random.randint(0, 255, (7,7))\n",
    "show_image(random_img, \"Random Image\")\n",
    "\n",
    "# Solve for heart image\n",
    "x = heart_img/random_img\n",
    "show_image(x, \"X\")\n",
    "\n",
    "solved_heart_img = random_img * x\n",
    "show_image(solved_heart_img, \"Solved Heart Image\")\n"
   ]
  }
 ],
 "metadata": {
  "language_info": {
   "name": "python"
  },
  "orig_nbformat": 4
 },
 "nbformat": 4,
 "nbformat_minor": 2
}
