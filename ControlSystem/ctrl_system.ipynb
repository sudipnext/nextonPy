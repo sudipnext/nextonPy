{
 "cells": [
  {
   "cell_type": "code",
   "execution_count": 1,
   "metadata": {},
   "outputs": [
    {
     "ename": "ImportError",
     "evalue": "cannot import name 'all' from 'math' (unknown location)",
     "output_type": "error",
     "traceback": [
      "\u001b[1;31m---------------------------------------------------------------------------\u001b[0m",
      "\u001b[1;31mImportError\u001b[0m                               Traceback (most recent call last)",
      "\u001b[1;32md:\\nextonPy\\ControlSystem\\ctrl_system.ipynb Cell 1\u001b[0m in \u001b[0;36m<cell line: 3>\u001b[1;34m()\u001b[0m\n\u001b[0;32m      <a href='vscode-notebook-cell:/d%3A/nextonPy/ControlSystem/ctrl_system.ipynb#W0sZmlsZQ%3D%3D?line=0'>1</a>\u001b[0m \u001b[39mimport\u001b[39;00m \u001b[39mmatplotlib\u001b[39;00m\u001b[39m.\u001b[39;00m\u001b[39mpyplot\u001b[39;00m \u001b[39mas\u001b[39;00m \u001b[39mplt\u001b[39;00m\n\u001b[0;32m      <a href='vscode-notebook-cell:/d%3A/nextonPy/ControlSystem/ctrl_system.ipynb#W0sZmlsZQ%3D%3D?line=1'>2</a>\u001b[0m \u001b[39mimport\u001b[39;00m \u001b[39mcontrol\u001b[39;00m \u001b[39mas\u001b[39;00m \u001b[39mctl\u001b[39;00m\n\u001b[1;32m----> <a href='vscode-notebook-cell:/d%3A/nextonPy/ControlSystem/ctrl_system.ipynb#W0sZmlsZQ%3D%3D?line=2'>3</a>\u001b[0m \u001b[39mfrom\u001b[39;00m \u001b[39mmath\u001b[39;00m \u001b[39mimport\u001b[39;00m \u001b[39mall\u001b[39m\n",
      "\u001b[1;31mImportError\u001b[0m: cannot import name 'all' from 'math' (unknown location)"
     ]
    }
   ],
   "source": [
    "import matplotlib.pyplot as plt\n",
    "import control as ctl\n",
    "from math import all"
   ]
  },
  {
   "cell_type": "code",
   "execution_count": null,
   "metadata": {},
   "outputs": [],
   "source": [
    "G_s = 4/ (s*(s+2))\n",
    "T = 0.8\n",
    "a= 0.4\n",
    "H_s = 1\n",
    "G_cs = (s+1/T)/(s+1/(a*T))\n",
    "S_P = complex(-2, 3.66)"
   ]
  },
  {
   "cell_type": "code",
   "execution_count": null,
   "metadata": {},
   "outputs": [],
   "source": [
    "OLS =ctl.series(G_cs, G_s)\n",
    "OLS = ctl.feedback(OLS, H_s)"
   ]
  },
  {
   "cell_type": "code",
   "execution_count": null,
   "metadata": {},
   "outputs": [],
   "source": [
    "G_uncomp = 30/(s*(1+s/10)*(1+s/5))\n",
    "G_comp = (30*(1+s/0.4))/(1+s/0.017)"
   ]
  }
 ],
 "metadata": {
  "kernelspec": {
   "display_name": "Python 3",
   "language": "python",
   "name": "python3"
  },
  "language_info": {
   "codemirror_mode": {
    "name": "ipython",
    "version": 3
   },
   "file_extension": ".py",
   "mimetype": "text/x-python",
   "name": "python",
   "nbconvert_exporter": "python",
   "pygments_lexer": "ipython3",
   "version": "3.11.0"
  },
  "orig_nbformat": 4,
  "vscode": {
   "interpreter": {
    "hash": "f4439b52bba58a8f1be07af29fbe91ad3080f1f9817d0f6cecda63fbc00c472d"
   }
  }
 },
 "nbformat": 4,
 "nbformat_minor": 2
}
